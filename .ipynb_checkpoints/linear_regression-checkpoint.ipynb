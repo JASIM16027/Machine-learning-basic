{
 "cells": [
  {
   "cell_type": "code",
   "execution_count": 12,
   "metadata": {},
   "outputs": [
    {
     "name": "stdout",
     "output_type": "stream",
     "text": [
      "b__0 = 2.2\n",
      "b_1 = 0.6\n"
     ]
    }
   ],
   "source": [
    "import numpy as np\n",
    "import matplotlib.pyplot as plt \n",
    "\n",
    "\n",
    "\n",
    "def estimated_coefficient(x, y):\n",
    "    \n",
    "    n =np.size(x)\n",
    "    x_mean = np.mean(x)\n",
    "    y_mean = np.mean(y)\n",
    "    \n",
    "    SS_xy = np.sum(y*x) - n* x_mean * y_mean \n",
    "    SS_xx = np.sum(x*x) - n* x_mean * x_mean\n",
    "    \n",
    "    b_1 = SS_xy/ SS_xx\n",
    "    \n",
    "    b_0 = y_mean - b_1 * x_mean\n",
    "    \n",
    "    return (b_0, b_1)\n",
    "\n",
    "def regression_plot(x,y, b):\n",
    "    \n",
    "    \n",
    "    \n",
    "\n",
    "def main():\n",
    "    x = np.array([1,2,3,4,5])\n",
    "    y = np.array([2,4,5,4,5])\n",
    "    \n",
    "    ans = estimated_coefficient(x,y)\n",
    "    \n",
    "    print(\"b__0 = {}\\nb_1 = {}\".format(ans[0], ans[1]))\n",
    "    \n",
    "    plot_regression_line(x, y, b) \n",
    "    \n",
    "\n",
    "    \n",
    "\n",
    "if __name__ == \"__main__\": \n",
    "    main() "
   ]
  },
  {
   "cell_type": "code",
   "execution_count": null,
   "metadata": {},
   "outputs": [],
   "source": []
  },
  {
   "cell_type": "code",
   "execution_count": null,
   "metadata": {},
   "outputs": [],
   "source": [
    " "
   ]
  }
 ],
 "metadata": {
  "kernelspec": {
   "display_name": "Python 3",
   "language": "python",
   "name": "python3"
  },
  "language_info": {
   "codemirror_mode": {
    "name": "ipython",
    "version": 3
   },
   "file_extension": ".py",
   "mimetype": "text/x-python",
   "name": "python",
   "nbconvert_exporter": "python",
   "pygments_lexer": "ipython3",
   "version": "3.7.4"
  }
 },
 "nbformat": 4,
 "nbformat_minor": 4
}
