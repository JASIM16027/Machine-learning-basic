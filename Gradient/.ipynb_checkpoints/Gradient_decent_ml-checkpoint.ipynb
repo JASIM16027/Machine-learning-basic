{
 "cells": [
  {
   "cell_type": "code",
   "execution_count": null,
   "metadata": {},
   "outputs": [],
   "source": [
    "# Gradient Decent for two point\n",
    "# Gradient Decent is used for reducing the error in order to get accurate prediction\n",
    "# the more reduce error the more accurate will be the predicted value"
   ]
  },
  {
   "cell_type": "code",
   "execution_count": 1,
   "metadata": {},
   "outputs": [],
   "source": [
    "points = [(2,4), (4,2)]"
   ]
  },
  {
   "cell_type": "code",
   "execution_count": 2,
   "metadata": {},
   "outputs": [],
   "source": [
    "def F(w):\n",
    "    return sum((w*x - y)**2 for x, y in points)\n",
    "    \n"
   ]
  },
  {
   "cell_type": "code",
   "execution_count": 3,
   "metadata": {},
   "outputs": [],
   "source": [
    "def DF(w):\n",
    "    return sum(2 * (w*x - y)*x for x, y in points)"
   ]
  },
  {
   "cell_type": "code",
   "execution_count": 5,
   "metadata": {},
   "outputs": [],
   "source": [
    "w = 0\n",
    "eta = 0.01\n",
    "\n",
    "for t in range(100):\n",
    "    value = F(w)\n",
    "    gradient = DF(w)\n",
    "    w = w- eta * gradient\n",
    "    \n",
    "    #print(\"iteration {}: w = {}, F(w) = {}\".format(t, w,value ))"
   ]
  },
  {
   "cell_type": "code",
   "execution_count": null,
   "metadata": {},
   "outputs": [],
   "source": []
  }
 ],
 "metadata": {
  "kernelspec": {
   "display_name": "Python 3",
   "language": "python",
   "name": "python3"
  },
  "language_info": {
   "codemirror_mode": {
    "name": "ipython",
    "version": 3
   },
   "file_extension": ".py",
   "mimetype": "text/x-python",
   "name": "python",
   "nbconvert_exporter": "python",
   "pygments_lexer": "ipython3",
   "version": "3.7.4"
  }
 },
 "nbformat": 4,
 "nbformat_minor": 4
}
