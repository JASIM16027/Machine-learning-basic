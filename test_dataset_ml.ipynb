{
 "cells": [
  {
   "cell_type": "code",
   "execution_count": 1,
   "metadata": {},
   "outputs": [],
   "source": [
    "import numpy as np \n",
    "import pandas as pd \n",
    "import math \n",
    "import random \n",
    "import matplotlib.pyplot as plt  \n",
    "  "
   ]
  },
  {
   "cell_type": "code",
   "execution_count": 2,
   "metadata": {},
   "outputs": [],
   "source": [
    "point1 = abs(np.random.normal(1, 12, 100)) \n",
    "\n",
    "point2 = abs(np.random.normal(2, 7, 100)) \n",
    "\n",
    "point3 = abs(np.random.normal(3, 4, 100)) \n",
    "\n",
    "point4 = abs(np.random.normal(10, 5, 100)) "
   ]
  },
  {
   "cell_type": "code",
   "execution_count": 3,
   "metadata": {},
   "outputs": [],
   "source": [
    "x = np.c_[point1, point2, point3, point4]"
   ]
  },
  {
   "cell_type": "code",
   "execution_count": 4,
   "metadata": {},
   "outputs": [],
   "source": [
    "y = [int(np.random.normal(0, 4)) for i in range(100)]"
   ]
  },
  {
   "cell_type": "code",
   "execution_count": 5,
   "metadata": {},
   "outputs": [],
   "source": [
    "df = pd.DataFrame()"
   ]
  },
  {
   "cell_type": "code",
   "execution_count": 6,
   "metadata": {},
   "outputs": [],
   "source": [
    "df['col1']= point1\n",
    "df['col2']= point2\n",
    "df['col3']= point3\n",
    "df['col4']= point4\n"
   ]
  },
  {
   "cell_type": "code",
   "execution_count": 7,
   "metadata": {},
   "outputs": [
    {
     "data": {
      "text/html": [
       "<div>\n",
       "<style scoped>\n",
       "    .dataframe tbody tr th:only-of-type {\n",
       "        vertical-align: middle;\n",
       "    }\n",
       "\n",
       "    .dataframe tbody tr th {\n",
       "        vertical-align: top;\n",
       "    }\n",
       "\n",
       "    .dataframe thead th {\n",
       "        text-align: right;\n",
       "    }\n",
       "</style>\n",
       "<table border=\"1\" class=\"dataframe\">\n",
       "  <thead>\n",
       "    <tr style=\"text-align: right;\">\n",
       "      <th></th>\n",
       "      <th>col1</th>\n",
       "      <th>col2</th>\n",
       "      <th>col3</th>\n",
       "      <th>col4</th>\n",
       "    </tr>\n",
       "  </thead>\n",
       "  <tbody>\n",
       "    <tr>\n",
       "      <th>0</th>\n",
       "      <td>4.284898</td>\n",
       "      <td>11.678424</td>\n",
       "      <td>4.934939</td>\n",
       "      <td>9.860956</td>\n",
       "    </tr>\n",
       "    <tr>\n",
       "      <th>1</th>\n",
       "      <td>6.696072</td>\n",
       "      <td>4.567706</td>\n",
       "      <td>5.903618</td>\n",
       "      <td>7.926513</td>\n",
       "    </tr>\n",
       "    <tr>\n",
       "      <th>2</th>\n",
       "      <td>13.805108</td>\n",
       "      <td>5.388788</td>\n",
       "      <td>4.695759</td>\n",
       "      <td>8.680506</td>\n",
       "    </tr>\n",
       "    <tr>\n",
       "      <th>3</th>\n",
       "      <td>14.029389</td>\n",
       "      <td>11.092768</td>\n",
       "      <td>4.678426</td>\n",
       "      <td>20.860229</td>\n",
       "    </tr>\n",
       "    <tr>\n",
       "      <th>4</th>\n",
       "      <td>18.792075</td>\n",
       "      <td>5.272731</td>\n",
       "      <td>0.756495</td>\n",
       "      <td>12.135846</td>\n",
       "    </tr>\n",
       "    <tr>\n",
       "      <th>...</th>\n",
       "      <td>...</td>\n",
       "      <td>...</td>\n",
       "      <td>...</td>\n",
       "      <td>...</td>\n",
       "    </tr>\n",
       "    <tr>\n",
       "      <th>95</th>\n",
       "      <td>17.284663</td>\n",
       "      <td>0.395904</td>\n",
       "      <td>5.916691</td>\n",
       "      <td>14.051171</td>\n",
       "    </tr>\n",
       "    <tr>\n",
       "      <th>96</th>\n",
       "      <td>3.035141</td>\n",
       "      <td>3.816428</td>\n",
       "      <td>3.244445</td>\n",
       "      <td>8.523205</td>\n",
       "    </tr>\n",
       "    <tr>\n",
       "      <th>97</th>\n",
       "      <td>13.329506</td>\n",
       "      <td>9.767443</td>\n",
       "      <td>4.076497</td>\n",
       "      <td>8.659467</td>\n",
       "    </tr>\n",
       "    <tr>\n",
       "      <th>98</th>\n",
       "      <td>3.966262</td>\n",
       "      <td>7.752785</td>\n",
       "      <td>1.628624</td>\n",
       "      <td>10.144625</td>\n",
       "    </tr>\n",
       "    <tr>\n",
       "      <th>99</th>\n",
       "      <td>15.604629</td>\n",
       "      <td>0.510095</td>\n",
       "      <td>5.101428</td>\n",
       "      <td>9.670103</td>\n",
       "    </tr>\n",
       "  </tbody>\n",
       "</table>\n",
       "<p>100 rows × 4 columns</p>\n",
       "</div>"
      ],
      "text/plain": [
       "         col1       col2      col3       col4\n",
       "0    4.284898  11.678424  4.934939   9.860956\n",
       "1    6.696072   4.567706  5.903618   7.926513\n",
       "2   13.805108   5.388788  4.695759   8.680506\n",
       "3   14.029389  11.092768  4.678426  20.860229\n",
       "4   18.792075   5.272731  0.756495  12.135846\n",
       "..        ...        ...       ...        ...\n",
       "95  17.284663   0.395904  5.916691  14.051171\n",
       "96   3.035141   3.816428  3.244445   8.523205\n",
       "97  13.329506   9.767443  4.076497   8.659467\n",
       "98   3.966262   7.752785  1.628624  10.144625\n",
       "99  15.604629   0.510095  5.101428   9.670103\n",
       "\n",
       "[100 rows x 4 columns]"
      ]
     },
     "execution_count": 7,
     "metadata": {},
     "output_type": "execute_result"
    }
   ],
   "source": [
    "df"
   ]
  },
  {
   "cell_type": "code",
   "execution_count": 9,
   "metadata": {},
   "outputs": [
    {
     "data": {
      "image/png": "[encoded data removed]",
      "text/plain": [
       "<Figure size 432x288 with 4 Axes>"
      ]
     },
     "metadata": {
      "needs_background": "light"
     },
     "output_type": "display_data"
    }
   ],
   "source": [
    "plt.subplot(2,2,1)\n",
    "plt.title('col1')\n",
    "plt.scatter(y, point1, color = 'r', label = 'col1')\n",
    "\n",
    "plt.subplot(2, 2, 2) \n",
    "plt.title('Col2') \n",
    "plt.scatter(y, point2, color = 'g', label ='col2') \n",
    "      \n",
    "plt.subplot(2, 2, 3) \n",
    "plt.title('Col3') \n",
    "plt.scatter(y, point3, color ='b', label ='col3') \n",
    "      \n",
    "plt.subplot(2, 2, 4) \n",
    "plt.title('Col4') \n",
    "plt.scatter(y, point4, color ='y', label ='col4') \n",
    "      \n",
    "# saving the graph \n",
    "plt.savefig('data_visualization.jpg')         \n",
    "  \n",
    "# displaying the graph \n",
    "plt.show() "
   ]
  },
  {
   "cell_type": "code",
   "execution_count": null,
   "metadata": {},
   "outputs": [],
   "source": []
  },
  {
   "cell_type": "code",
   "execution_count": null,
   "metadata": {},
   "outputs": [],
   "source": []
  },
  {
   "cell_type": "code",
   "execution_count": null,
   "metadata": {},
   "outputs": [],
   "source": []
  }
 ],
 "metadata": {
  "kernelspec": {
   "display_name": "Python 3",
   "language": "python",
   "name": "python3"
  },
  "language_info": {
   "codemirror_mode": {
    "name": "ipython",
    "version": 3
   },
   "file_extension": ".py",
   "mimetype": "text/x-python",
   "name": "python",
   "nbconvert_exporter": "python",
   "pygments_lexer": "ipython3",
   "version": "3.7.4"
  }
 },
 "nbformat": 4,
 "nbformat_minor": 4
}
